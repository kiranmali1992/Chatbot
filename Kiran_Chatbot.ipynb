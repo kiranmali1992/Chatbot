{
  "cells": [
    {
      "cell_type": "markdown",
      "metadata": {
        "id": "u4UwdzS8RGwe"
      },
      "source": [
        "**Chatbot**\n",
        "\n",
        "Chatbot is a computer program designed to simulate conversation with human users especially over the internet.\n",
        "\n",
        "Here I have developed Chatbot using general conversation between human and computer."
      ]
    },
    {
      "cell_type": "markdown",
      "metadata": {
        "id": "FbwjNE_qk12e"
      },
      "source": [
        "**1 Import requried model**"
      ]
    },
    {
      "cell_type": "code",
      "execution_count": null,
      "metadata": {
        "colab": {
          "base_uri": "https://localhost:8080/"
        },
        "id": "BhtUSGb_l568",
        "outputId": "62e7c5ec-9ec9-4347-fd00-5c3155294832"
      },
      "outputs": [
        {
          "output_type": "stream",
          "name": "stdout",
          "text": [
            "[nltk_data] Downloading package punkt to /root/nltk_data...\n",
            "[nltk_data]   Package punkt is already up-to-date!\n",
            "[nltk_data] Downloading package wordnet to /root/nltk_data...\n",
            "[nltk_data]   Package wordnet is already up-to-date!\n",
            "[nltk_data] Downloading package stopwords to /root/nltk_data...\n",
            "[nltk_data]   Package stopwords is already up-to-date!\n"
          ]
        }
      ],
      "source": [
        "import pandas as pd\n",
        "import numpy as np\n",
        "import nltk\n",
        "import seaborn as sns\n",
        "import matplotlib.pyplot as plt\n",
        "nltk.download(\"punkt\")\n",
        "from nltk.stem import WordNetLemmatizer\n",
        "nltk.download(\"wordnet\")\n",
        "from nltk.corpus import stopwords\n",
        "nltk.download(\"stopwords\")\n",
        "\n",
        "from tensorflow.keras.preprocessing.text import Tokenizer\n",
        "from tensorflow.keras.preprocessing import sequence #unique id\n",
        "\n",
        "from tensorflow.keras.models import Sequential\n",
        "from tensorflow.keras.layers import Dense, SimpleRNN, LSTM, Dropout, Embedding\n",
        "from keras.callbacks import EarlyStopping, ModelCheckpoint\n",
        "\n",
        "import nlp_utils as nu\n",
        "\n",
        "import warnings\n",
        "warnings.filterwarnings(\"ignore\")"
      ]
    },
    {
      "cell_type": "code",
      "execution_count": null,
      "metadata": {
        "id": "X7S6IdOfqU4T"
      },
      "outputs": [],
      "source": [
        "df = open(\"/content/drive/MyDrive/dialogs.txt\")\n",
        "print(df.read())"
      ]
    },
    {
      "cell_type": "code",
      "execution_count": null,
      "metadata": {
        "id": "8-8PInPBpIl6"
      },
      "outputs": [],
      "source": [
        "# Reading text file\n",
        "text_data = pd.read_table(\"/content/drive/MyDrive/dialogs.txt\",names=('Query','Response'))\n",
        "text_data.head(10)"
      ]
    },
    {
      "cell_type": "markdown",
      "metadata": {
        "id": "B2TmUwlBuCmH"
      },
      "source": [
        "**2 EDA**"
      ]
    },
    {
      "cell_type": "code",
      "execution_count": null,
      "metadata": {
        "colab": {
          "base_uri": "https://localhost:8080/"
        },
        "id": "m04V0MZSv2Ne",
        "outputId": "cdf80fe2-7878-4e1c-f56a-06164e37b644"
      },
      "outputs": [
        {
          "output_type": "stream",
          "name": "stdout",
          "text": [
            "<class 'pandas.core.frame.DataFrame'>\n",
            "RangeIndex: 3725 entries, 0 to 3724\n",
            "Data columns (total 2 columns):\n",
            " #   Column    Non-Null Count  Dtype \n",
            "---  ------    --------------  ----- \n",
            " 0   Query     3725 non-null   object\n",
            " 1   Response  3725 non-null   object\n",
            "dtypes: object(2)\n",
            "memory usage: 58.3+ KB\n"
          ]
        }
      ],
      "source": [
        "text_data.info()"
      ]
    },
    {
      "cell_type": "code",
      "execution_count": null,
      "metadata": {
        "colab": {
          "base_uri": "https://localhost:8080/"
        },
        "id": "1X-5Dd8kpcj4",
        "outputId": "2ff59148-806a-44ac-cc47-c0874ebc023c"
      },
      "outputs": [
        {
          "output_type": "execute_result",
          "data": {
            "text/plain": [
              "Query       0\n",
              "Response    0\n",
              "dtype: int64"
            ]
          },
          "metadata": {},
          "execution_count": 9
        }
      ],
      "source": [
        "# Finding Null value\n",
        "text_data.isna().sum()"
      ]
    },
    {
      "cell_type": "code",
      "execution_count": null,
      "metadata": {
        "colab": {
          "base_uri": "https://localhost:8080/"
        },
        "id": "1x2JvmgLq1G2",
        "outputId": "ce08447d-b79c-44b5-db9f-abdb9ce6b1d8"
      },
      "outputs": [
        {
          "output_type": "execute_result",
          "data": {
            "text/plain": [
              "[]"
            ]
          },
          "metadata": {},
          "execution_count": 10
        }
      ],
      "source": [
        "# Removing all row which have blank space in it\n",
        "blank = []\n",
        "for i ,qu , rs in text_data.itertuples():\n",
        "  if type(qu) == str:\n",
        "    if qu.isspace():\n",
        "      blank.append(i)\n",
        "blank"
      ]
    },
    {
      "cell_type": "code",
      "execution_count": null,
      "metadata": {
        "colab": {
          "base_uri": "https://localhost:8080/"
        },
        "id": "o4GjZpYUvKk1",
        "outputId": "28d5419f-dcbc-4fea-9f01-91c83f108d86"
      },
      "outputs": [
        {
          "output_type": "execute_result",
          "data": {
            "text/plain": [
              "what do you mean?                              22\n",
              "why not?                                       16\n",
              "what happened?                                 10\n",
              "why is that?                                    9\n",
              "me too.                                         7\n",
              "                                               ..\n",
              "you can yell at them.                           1\n",
              "and they will yell back at you.                 1\n",
              "yelling doesn't do any good.                    1\n",
              "will you look at this form?                     1\n",
              "but i do all my writing with my right hand.     1\n",
              "Name: Query, Length: 3510, dtype: int64"
            ]
          },
          "metadata": {},
          "execution_count": 11
        }
      ],
      "source": [
        "# Checking count value present in Query column\n",
        "text_data[\"Query\"].value_counts()"
      ]
    },
    {
      "cell_type": "code",
      "execution_count": null,
      "metadata": {
        "colab": {
          "base_uri": "https://localhost:8080/"
        },
        "id": "s0m3nQ0FwH_D",
        "outputId": "5b227dfd-0fa6-4306-d12e-2154194bd529"
      },
      "outputs": [
        {
          "output_type": "execute_result",
          "data": {
            "text/plain": [
              "what do you mean?                                                       22\n",
              "why not?                                                                16\n",
              "what happened?                                                          10\n",
              "why is that?                                                             9\n",
              "of course.                                                               8\n",
              "                                                                        ..\n",
              "i don't understand some things.                                          1\n",
              "let me help you.                                                         1\n",
              "what does \"mi\" mean?                                                     1\n",
              "mi stands for middle initial.                                            1\n",
              "start typing instead. that way your left hand will do half the work.     1\n",
              "Name: Response, Length: 3512, dtype: int64"
            ]
          },
          "metadata": {},
          "execution_count": 12
        }
      ],
      "source": [
        "# Checking count value present in Response column\n",
        "text_data[\"Response\"].value_counts()"
      ]
    },
    {
      "cell_type": "markdown",
      "metadata": {
        "id": "mNEe5_qFxJib"
      },
      "source": [
        "**3 Visualization** "
      ]
    },
    {
      "cell_type": "code",
      "execution_count": null,
      "metadata": {
        "colab": {
          "base_uri": "https://localhost:8080/",
          "height": 412
        },
        "id": "ZSTTrmxjwtCS",
        "outputId": "6661137d-99a0-4357-87bf-1ceb69d1d8fa"
      },
      "outputs": [
        {
          "output_type": "execute_result",
          "data": {
            "text/plain": [
              "<matplotlib.image.AxesImage at 0x7fa934b32b10>"
            ]
          },
          "metadata": {},
          "execution_count": 13
        },
        {
          "output_type": "display_data",
          "data": {
            "text/plain": [
              "<Figure size 432x432 with 1 Axes>"
            ],
            "image/png": "[encoded data removed]"
          },
          "metadata": {
            "needs_background": "light"
          }
        }
      ],
      "source": [
        "#Word Cloud is data visualization technique used to represent text data in which size of word shows its frequency of occurancy\n",
        "from wordcloud import WordCloud\n",
        "\n",
        "#Creating an object\n",
        "wc = WordCloud(width = 1200, height = 1200, background_color= \"white\")\n",
        "\n",
        "wc.generate(\"\".join(text_data[\"Query\"]))\n",
        "\n",
        "plt.figure(figsize = (6,6))\n",
        "\n",
        "plt.title(\"Word friquency in Query\", fontsize = 20)\n",
        "\n",
        "plt.imshow(wc)"
      ]
    },
    {
      "cell_type": "code",
      "execution_count": null,
      "metadata": {
        "colab": {
          "base_uri": "https://localhost:8080/",
          "height": 412
        },
        "id": "QpH6olClyVgs",
        "outputId": "cc9fbd33-c3f5-4439-a72e-7b8cd1b0506e"
      },
      "outputs": [
        {
          "output_type": "execute_result",
          "data": {
            "text/plain": [
              "<matplotlib.image.AxesImage at 0x7fa934b27250>"
            ]
          },
          "metadata": {},
          "execution_count": 14
        },
        {
          "output_type": "display_data",
          "data": {
            "text/plain": [
              "<Figure size 432x432 with 1 Axes>"
            ],
            "image/png": "[encoded data removed]"
          },
          "metadata": {
            "needs_background": "light"
          }
        }
      ],
      "source": [
        "# Worldword for response dataset\n",
        "wc.generate(\"\".join(text_data[\"Response\"]))\n",
        "\n",
        "plt.figure(figsize = (6,6))\n",
        "\n",
        "plt.title(\"Word friquency in Response\", fontsize = 20)\n",
        "\n",
        "plt.imshow(wc)"
      ]
    },
    {
      "cell_type": "code",
      "source": [
        "# Collectig all word from Query collumn\n",
        "Query_carpus =[]\n",
        "for msg in text_data[\"Query\"].tolist():\n",
        "  for word in msg.split():\n",
        "    Query_carpus.append(word)"
      ],
      "metadata": {
        "id": "a1oECYHc08R9"
      },
      "execution_count": null,
      "outputs": []
    },
    {
      "cell_type": "code",
      "execution_count": null,
      "metadata": {
        "colab": {
          "base_uri": "https://localhost:8080/",
          "height": 409
        },
        "id": "e1Cu70jZ8EEB",
        "outputId": "d712e26d-8e27-44db-99a2-0ea13d4c3448"
      },
      "outputs": [
        {
          "output_type": "display_data",
          "data": {
            "text/plain": [
              "<Figure size 432x432 with 1 Axes>"
            ],
            "image/png": "[encoded data removed]"
          },
          "metadata": {
            "needs_background": "light"
          }
        }
      ],
      "source": [
        "# Counter will count number of time word is present in the text\n",
        "from collections import Counter\n",
        "\n",
        "plt.figure(figsize = (6,6))\n",
        "\n",
        "#Plotting barplot of top most 30 word \n",
        "sns.barplot(pd.DataFrame(Counter(Query_carpus).most_common(30))[0],pd.DataFrame(Counter(Query_carpus).most_common(30))[1])\n",
        "\n",
        "plt.xlabel(\"Most Common 30 word in Query\",fontsize = 12)\n",
        "plt.xticks(rotation='vertical')\n",
        "plt.show()"
      ]
    },
    {
      "cell_type": "code",
      "source": [
        "Resp_carpus =[]\n",
        "for msg in text_data[\"Response\"].tolist():\n",
        "  for word in msg.split():\n",
        "    Resp_carpus.append(word)\n",
        "\n",
        "\n",
        "from collections import Counter\n",
        "\n",
        "plt.figure(figsize = (6,6))\n",
        "\n",
        "#Plotting barplot of top most 30 word\n",
        "sns.barplot(pd.DataFrame(Counter(Resp_carpus).most_common(30))[0],pd.DataFrame(Counter(Resp_carpus).most_common(30))[1])\n",
        "\n",
        "plt.xlabel(\"Most Common 30 word in review\", fontsize =12)\n",
        "\n",
        "plt.xticks(rotation='vertical')\n",
        "\n",
        "plt.show()"
      ],
      "metadata": {
        "colab": {
          "base_uri": "https://localhost:8080/",
          "height": 409
        },
        "id": "9Dj_2-mX16Zp",
        "outputId": "0bec6809-6bef-4704-bba2-f0930b88db8e"
      },
      "execution_count": null,
      "outputs": [
        {
          "output_type": "display_data",
          "data": {
            "text/plain": [
              "<Figure size 432x432 with 1 Axes>"
            ],
            "image/png": "[encoded data removed]"
          },
          "metadata": {
            "needs_background": "light"
          }
        }
      ]
    },
    {
      "cell_type": "markdown",
      "source": [
        "**4 Cleaning Text**"
      ],
      "metadata": {
        "id": "uHGGZorn2oE-"
      }
    },
    {
      "cell_type": "code",
      "source": [
        "from nltk.tokenize import word_tokenize\n",
        "# Function for cleaning the text\n",
        "def Cleantext(text):\n",
        "\n",
        "  #step1\n",
        "  #Convert text into word token\n",
        "  token = word_tokenize(text.lower())\n",
        "\n",
        "  #step2 \n",
        "  # filter only alphanumeric value\n",
        "  atoken =[word for word in token if(word.isalpha())]\n",
        "\n",
        "  #step3\n",
        "  # Removing all stop words\n",
        "  #stoken =[word for word in atoken if word not in stopwords.words(\"english\")]\n",
        "\n",
        "  #Step 4\n",
        "  # Converting word into root word with it's proper meaning \n",
        "  lemm = WordNetLemmatizer()\n",
        "  ltoken = [lemm.lemmatize(word) for word in atoken]\n",
        "\n",
        "  return \" \".join(ltoken)\n",
        "\n",
        "sent = \"Hello how are you kiran\"\n",
        "Cleantext(sent)"
      ],
      "metadata": {
        "colab": {
          "base_uri": "https://localhost:8080/",
          "height": 35
        },
        "id": "x9ELDKWt2sL1",
        "outputId": "480ad9b5-b4af-4c90-9dec-685bde9c73d3"
      },
      "execution_count": null,
      "outputs": [
        {
          "output_type": "execute_result",
          "data": {
            "text/plain": [
              "'hello how are you kiran'"
            ],
            "application/vnd.google.colaboratory.intrinsic+json": {
              "type": "string"
            }
          },
          "metadata": {},
          "execution_count": 63
        }
      ]
    },
    {
      "cell_type": "code",
      "source": [
        "#Clean the complet data\n",
        "text_data[\"Query\"] = text_data[\"Query\"].apply(Cleantext) "
      ],
      "metadata": {
        "id": "eM3KdjYn5_gz"
      },
      "execution_count": null,
      "outputs": []
    },
    {
      "cell_type": "code",
      "source": [
        "text_data.head()"
      ],
      "metadata": {
        "colab": {
          "base_uri": "https://localhost:8080/",
          "height": 206
        },
        "id": "tkrlVLNN6hxs",
        "outputId": "7097ff57-23e9-4c0c-afcc-a3435aa9c297"
      },
      "execution_count": null,
      "outputs": [
        {
          "output_type": "execute_result",
          "data": {
            "text/plain": [
              "                             Query                                  Response\n",
              "0             hi how are you doing             i'm fine. how about yourself?\n",
              "1        i fine how about yourself       i'm pretty good. thanks for asking.\n",
              "2  i pretty good thanks for asking         no problem. so how have you been?\n",
              "3  no problem so how have you been          i've been great. what about you?\n",
              "4      i been great what about you  i've been good. i'm in school right now."
            ],
            "text/html": [
              "\n",
              "  <div id=\"df-d620c5e7-c080-4371-a91a-3adbcb5e7803\">\n",
              "    <div class=\"colab-df-container\">\n",
              "      <div>\n",
              "<style scoped>\n",
              "    .dataframe tbody tr th:only-of-type {\n",
              "        vertical-align: middle;\n",
              "    }\n",
              "\n",
              "    .dataframe tbody tr th {\n",
              "        vertical-align: top;\n",
              "    }\n",
              "\n",
              "    .dataframe thead th {\n",
              "        text-align: right;\n",
              "    }\n",
              "</style>\n",
              "<table border=\"1\" class=\"dataframe\">\n",
              "  <thead>\n",
              "    <tr style=\"text-align: right;\">\n",
              "      <th></th>\n",
              "      <th>Query</th>\n",
              "      <th>Response</th>\n",
              "    </tr>\n",
              "  </thead>\n",
              "  <tbody>\n",
              "    <tr>\n",
              "      <th>0</th>\n",
              "      <td>hi how are you doing</td>\n",
              "      <td>i'm fine. how about yourself?</td>\n",
              "    </tr>\n",
              "    <tr>\n",
              "      <th>1</th>\n",
              "      <td>i fine how about yourself</td>\n",
              "      <td>i'm pretty good. thanks for asking.</td>\n",
              "    </tr>\n",
              "    <tr>\n",
              "      <th>2</th>\n",
              "      <td>i pretty good thanks for asking</td>\n",
              "      <td>no problem. so how have you been?</td>\n",
              "    </tr>\n",
              "    <tr>\n",
              "      <th>3</th>\n",
              "      <td>no problem so how have you been</td>\n",
              "      <td>i've been great. what about you?</td>\n",
              "    </tr>\n",
              "    <tr>\n",
              "      <th>4</th>\n",
              "      <td>i been great what about you</td>\n",
              "      <td>i've been good. i'm in school right now.</td>\n",
              "    </tr>\n",
              "  </tbody>\n",
              "</table>\n",
              "</div>\n",
              "      <button class=\"colab-df-convert\" onclick=\"convertToInteractive('df-d620c5e7-c080-4371-a91a-3adbcb5e7803')\"\n",
              "              title=\"Convert this dataframe to an interactive table.\"\n",
              "              style=\"display:none;\">\n",
              "        \n",
              "  <svg xmlns=\"http://www.w3.org/2000/svg\" height=\"24px\"viewBox=\"0 0 24 24\"\n",
              "       width=\"24px\">\n",
              "    <path d=\"M0 0h24v24H0V0z\" fill=\"none\"/>\n",
              "    <path d=\"M18.56 5.44l.94 2.06.94-2.06 2.06-.94-2.06-.94-.94-2.06-.94 2.06-2.06.94zm-11 1L8.5 8.5l.94-2.06 2.06-.94-2.06-.94L8.5 2.5l-.94 2.06-2.06.94zm10 10l.94 2.06.94-2.06 2.06-.94-2.06-.94-.94-2.06-.94 2.06-2.06.94z\"/><path d=\"M17.41 7.96l-1.37-1.37c-.4-.4-.92-.59-1.43-.59-.52 0-1.04.2-1.43.59L10.3 9.45l-7.72 7.72c-.78.78-.78 2.05 0 2.83L4 21.41c.39.39.9.59 1.41.59.51 0 1.02-.2 1.41-.59l7.78-7.78 2.81-2.81c.8-.78.8-2.07 0-2.86zM5.41 20L4 18.59l7.72-7.72 1.47 1.35L5.41 20z\"/>\n",
              "  </svg>\n",
              "      </button>\n",
              "      \n",
              "  <style>\n",
              "    .colab-df-container {\n",
              "      display:flex;\n",
              "      flex-wrap:wrap;\n",
              "      gap: 12px;\n",
              "    }\n",
              "\n",
              "    .colab-df-convert {\n",
              "      background-color: #E8F0FE;\n",
              "      border: none;\n",
              "      border-radius: 50%;\n",
              "      cursor: pointer;\n",
              "      display: none;\n",
              "      fill: #1967D2;\n",
              "      height: 32px;\n",
              "      padding: 0 0 0 0;\n",
              "      width: 32px;\n",
              "    }\n",
              "\n",
              "    .colab-df-convert:hover {\n",
              "      background-color: #E2EBFA;\n",
              "      box-shadow: 0px 1px 2px rgba(60, 64, 67, 0.3), 0px 1px 3px 1px rgba(60, 64, 67, 0.15);\n",
              "      fill: #174EA6;\n",
              "    }\n",
              "\n",
              "    [theme=dark] .colab-df-convert {\n",
              "      background-color: #3B4455;\n",
              "      fill: #D2E3FC;\n",
              "    }\n",
              "\n",
              "    [theme=dark] .colab-df-convert:hover {\n",
              "      background-color: #434B5C;\n",
              "      box-shadow: 0px 1px 3px 1px rgba(0, 0, 0, 0.15);\n",
              "      filter: drop-shadow(0px 1px 2px rgba(0, 0, 0, 0.3));\n",
              "      fill: #FFFFFF;\n",
              "    }\n",
              "  </style>\n",
              "\n",
              "      <script>\n",
              "        const buttonEl =\n",
              "          document.querySelector('#df-d620c5e7-c080-4371-a91a-3adbcb5e7803 button.colab-df-convert');\n",
              "        buttonEl.style.display =\n",
              "          google.colab.kernel.accessAllowed ? 'block' : 'none';\n",
              "\n",
              "        async function convertToInteractive(key) {\n",
              "          const element = document.querySelector('#df-d620c5e7-c080-4371-a91a-3adbcb5e7803');\n",
              "          const dataTable =\n",
              "            await google.colab.kernel.invokeFunction('convertToInteractive',\n",
              "                                                     [key], {});\n",
              "          if (!dataTable) return;\n",
              "\n",
              "          const docLinkHtml = 'Like what you see? Visit the ' +\n",
              "            '<a target=\"_blank\" href=https://colab.research.google.com/notebooks/data_table.ipynb>data table notebook</a>'\n",
              "            + ' to learn more about interactive tables.';\n",
              "          element.innerHTML = '';\n",
              "          dataTable['output_type'] = 'display_data';\n",
              "          await google.colab.output.renderOutput(dataTable, element);\n",
              "          const docLink = document.createElement('div');\n",
              "          docLink.innerHTML = docLinkHtml;\n",
              "          element.appendChild(docLink);\n",
              "        }\n",
              "      </script>\n",
              "    </div>\n",
              "  </div>\n",
              "  "
            ]
          },
          "metadata": {},
          "execution_count": 20
        }
      ]
    },
    {
      "cell_type": "markdown",
      "source": [
        "**5 Feature Engineering**"
      ],
      "metadata": {
        "id": "QSvWkWk02axO"
      }
    },
    {
      "cell_type": "code",
      "source": [
        "# Sentiment Intensity analyser\n",
        "nltk.download(\"vader_lexicon\") "
      ],
      "metadata": {
        "colab": {
          "base_uri": "https://localhost:8080/"
        },
        "id": "UejCNE-Y6gSM",
        "outputId": "e642c5f0-3f84-4ca7-c6b4-fd9f4330b783"
      },
      "execution_count": null,
      "outputs": [
        {
          "output_type": "stream",
          "name": "stdout",
          "text": [
            "[nltk_data] Downloading package vader_lexicon to /root/nltk_data...\n"
          ]
        },
        {
          "output_type": "execute_result",
          "data": {
            "text/plain": [
              "True"
            ]
          },
          "metadata": {},
          "execution_count": 21
        }
      ]
    },
    {
      "cell_type": "code",
      "source": [
        "from nltk.sentiment.vader import SentimentIntensityAnalyzer\n",
        "# Creating an object\n",
        "sid = SentimentIntensityAnalyzer()\n",
        "#sid.polarity_scores()"
      ],
      "metadata": {
        "id": "XMWKjlZX2ZwT"
      },
      "execution_count": null,
      "outputs": []
    },
    {
      "cell_type": "code",
      "source": [
        "# Check Polarity of text in query column\n",
        "def PolarityScore(text):\n",
        "\n",
        "   score = sid.polarity_scores(text)\n",
        "\n",
        "   score_value = score[\"compound\"]\n",
        "\n",
        "   return score_value"
      ],
      "metadata": {
        "id": "kGeo1klH9TD1"
      },
      "execution_count": null,
      "outputs": []
    },
    {
      "cell_type": "code",
      "source": [
        "\n",
        "text_data[\"Score\"] = text_data[\"Query\"].apply(PolarityScore)"
      ],
      "metadata": {
        "id": "0hULFU2UAjNn"
      },
      "execution_count": null,
      "outputs": []
    },
    {
      "cell_type": "code",
      "source": [
        "text_data.head(10)"
      ],
      "metadata": {
        "colab": {
          "base_uri": "https://localhost:8080/",
          "height": 363
        },
        "id": "Zme3XujUBB_z",
        "outputId": "708d0dc0-997b-4489-a3e1-6f09cfc7653f"
      },
      "execution_count": null,
      "outputs": [
        {
          "output_type": "execute_result",
          "data": {
            "text/plain": [
              "                               Query  \\\n",
              "0               hi how are you doing   \n",
              "1          i fine how about yourself   \n",
              "2    i pretty good thanks for asking   \n",
              "3    no problem so how have you been   \n",
              "4        i been great what about you   \n",
              "5  i been good i in school right now   \n",
              "6           what school do you go to   \n",
              "7                        i go to pcc   \n",
              "8               do you like it there   \n",
              "9     it okay it a really big campus   \n",
              "\n",
              "                                   Response   Score  \n",
              "0             i'm fine. how about yourself?  0.0000  \n",
              "1       i'm pretty good. thanks for asking.  0.2023  \n",
              "2         no problem. so how have you been?  0.8402  \n",
              "3          i've been great. what about you? -0.5994  \n",
              "4  i've been good. i'm in school right now.  0.6249  \n",
              "5                 what school do you go to?  0.4404  \n",
              "6                              i go to pcc.  0.0000  \n",
              "7                     do you like it there?  0.0000  \n",
              "8      it's okay. it's a really big campus.  0.3612  \n",
              "9                    good luck with school.  0.2263  "
            ],
            "text/html": [
              "\n",
              "  <div id=\"df-9de2e00d-a3ff-477f-b1a4-4a2b81f3e33a\">\n",
              "    <div class=\"colab-df-container\">\n",
              "      <div>\n",
              "<style scoped>\n",
              "    .dataframe tbody tr th:only-of-type {\n",
              "        vertical-align: middle;\n",
              "    }\n",
              "\n",
              "    .dataframe tbody tr th {\n",
              "        vertical-align: top;\n",
              "    }\n",
              "\n",
              "    .dataframe thead th {\n",
              "        text-align: right;\n",
              "    }\n",
              "</style>\n",
              "<table border=\"1\" class=\"dataframe\">\n",
              "  <thead>\n",
              "    <tr style=\"text-align: right;\">\n",
              "      <th></th>\n",
              "      <th>Query</th>\n",
              "      <th>Response</th>\n",
              "      <th>Score</th>\n",
              "    </tr>\n",
              "  </thead>\n",
              "  <tbody>\n",
              "    <tr>\n",
              "      <th>0</th>\n",
              "      <td>hi how are you doing</td>\n",
              "      <td>i'm fine. how about yourself?</td>\n",
              "      <td>0.0000</td>\n",
              "    </tr>\n",
              "    <tr>\n",
              "      <th>1</th>\n",
              "      <td>i fine how about yourself</td>\n",
              "      <td>i'm pretty good. thanks for asking.</td>\n",
              "      <td>0.2023</td>\n",
              "    </tr>\n",
              "    <tr>\n",
              "      <th>2</th>\n",
              "      <td>i pretty good thanks for asking</td>\n",
              "      <td>no problem. so how have you been?</td>\n",
              "      <td>0.8402</td>\n",
              "    </tr>\n",
              "    <tr>\n",
              "      <th>3</th>\n",
              "      <td>no problem so how have you been</td>\n",
              "      <td>i've been great. what about you?</td>\n",
              "      <td>-0.5994</td>\n",
              "    </tr>\n",
              "    <tr>\n",
              "      <th>4</th>\n",
              "      <td>i been great what about you</td>\n",
              "      <td>i've been good. i'm in school right now.</td>\n",
              "      <td>0.6249</td>\n",
              "    </tr>\n",
              "    <tr>\n",
              "      <th>5</th>\n",
              "      <td>i been good i in school right now</td>\n",
              "      <td>what school do you go to?</td>\n",
              "      <td>0.4404</td>\n",
              "    </tr>\n",
              "    <tr>\n",
              "      <th>6</th>\n",
              "      <td>what school do you go to</td>\n",
              "      <td>i go to pcc.</td>\n",
              "      <td>0.0000</td>\n",
              "    </tr>\n",
              "    <tr>\n",
              "      <th>7</th>\n",
              "      <td>i go to pcc</td>\n",
              "      <td>do you like it there?</td>\n",
              "      <td>0.0000</td>\n",
              "    </tr>\n",
              "    <tr>\n",
              "      <th>8</th>\n",
              "      <td>do you like it there</td>\n",
              "      <td>it's okay. it's a really big campus.</td>\n",
              "      <td>0.3612</td>\n",
              "    </tr>\n",
              "    <tr>\n",
              "      <th>9</th>\n",
              "      <td>it okay it a really big campus</td>\n",
              "      <td>good luck with school.</td>\n",
              "      <td>0.2263</td>\n",
              "    </tr>\n",
              "  </tbody>\n",
              "</table>\n",
              "</div>\n",
              "      <button class=\"colab-df-convert\" onclick=\"convertToInteractive('df-9de2e00d-a3ff-477f-b1a4-4a2b81f3e33a')\"\n",
              "              title=\"Convert this dataframe to an interactive table.\"\n",
              "              style=\"display:none;\">\n",
              "        \n",
              "  <svg xmlns=\"http://www.w3.org/2000/svg\" height=\"24px\"viewBox=\"0 0 24 24\"\n",
              "       width=\"24px\">\n",
              "    <path d=\"M0 0h24v24H0V0z\" fill=\"none\"/>\n",
              "    <path d=\"M18.56 5.44l.94 2.06.94-2.06 2.06-.94-2.06-.94-.94-2.06-.94 2.06-2.06.94zm-11 1L8.5 8.5l.94-2.06 2.06-.94-2.06-.94L8.5 2.5l-.94 2.06-2.06.94zm10 10l.94 2.06.94-2.06 2.06-.94-2.06-.94-.94-2.06-.94 2.06-2.06.94z\"/><path d=\"M17.41 7.96l-1.37-1.37c-.4-.4-.92-.59-1.43-.59-.52 0-1.04.2-1.43.59L10.3 9.45l-7.72 7.72c-.78.78-.78 2.05 0 2.83L4 21.41c.39.39.9.59 1.41.59.51 0 1.02-.2 1.41-.59l7.78-7.78 2.81-2.81c.8-.78.8-2.07 0-2.86zM5.41 20L4 18.59l7.72-7.72 1.47 1.35L5.41 20z\"/>\n",
              "  </svg>\n",
              "      </button>\n",
              "      \n",
              "  <style>\n",
              "    .colab-df-container {\n",
              "      display:flex;\n",
              "      flex-wrap:wrap;\n",
              "      gap: 12px;\n",
              "    }\n",
              "\n",
              "    .colab-df-convert {\n",
              "      background-color: #E8F0FE;\n",
              "      border: none;\n",
              "      border-radius: 50%;\n",
              "      cursor: pointer;\n",
              "      display: none;\n",
              "      fill: #1967D2;\n",
              "      height: 32px;\n",
              "      padding: 0 0 0 0;\n",
              "      width: 32px;\n",
              "    }\n",
              "\n",
              "    .colab-df-convert:hover {\n",
              "      background-color: #E2EBFA;\n",
              "      box-shadow: 0px 1px 2px rgba(60, 64, 67, 0.3), 0px 1px 3px 1px rgba(60, 64, 67, 0.15);\n",
              "      fill: #174EA6;\n",
              "    }\n",
              "\n",
              "    [theme=dark] .colab-df-convert {\n",
              "      background-color: #3B4455;\n",
              "      fill: #D2E3FC;\n",
              "    }\n",
              "\n",
              "    [theme=dark] .colab-df-convert:hover {\n",
              "      background-color: #434B5C;\n",
              "      box-shadow: 0px 1px 3px 1px rgba(0, 0, 0, 0.15);\n",
              "      filter: drop-shadow(0px 1px 2px rgba(0, 0, 0, 0.3));\n",
              "      fill: #FFFFFF;\n",
              "    }\n",
              "  </style>\n",
              "\n",
              "      <script>\n",
              "        const buttonEl =\n",
              "          document.querySelector('#df-9de2e00d-a3ff-477f-b1a4-4a2b81f3e33a button.colab-df-convert');\n",
              "        buttonEl.style.display =\n",
              "          google.colab.kernel.accessAllowed ? 'block' : 'none';\n",
              "\n",
              "        async function convertToInteractive(key) {\n",
              "          const element = document.querySelector('#df-9de2e00d-a3ff-477f-b1a4-4a2b81f3e33a');\n",
              "          const dataTable =\n",
              "            await google.colab.kernel.invokeFunction('convertToInteractive',\n",
              "                                                     [key], {});\n",
              "          if (!dataTable) return;\n",
              "\n",
              "          const docLinkHtml = 'Like what you see? Visit the ' +\n",
              "            '<a target=\"_blank\" href=https://colab.research.google.com/notebooks/data_table.ipynb>data table notebook</a>'\n",
              "            + ' to learn more about interactive tables.';\n",
              "          element.innerHTML = '';\n",
              "          dataTable['output_type'] = 'display_data';\n",
              "          await google.colab.output.renderOutput(dataTable, element);\n",
              "          const docLink = document.createElement('div');\n",
              "          docLink.innerHTML = docLinkHtml;\n",
              "          element.appendChild(docLink);\n",
              "        }\n",
              "      </script>\n",
              "    </div>\n",
              "  </div>\n",
              "  "
            ]
          },
          "metadata": {},
          "execution_count": 25
        }
      ]
    },
    {
      "cell_type": "code",
      "source": [
        "def Label_data(Score):\n",
        "\n",
        "  if Score > 0.5:\n",
        "    # Positive Score\n",
        "    return \"pos\"\n",
        "  else:\n",
        "    #Negative\n",
        "    return \"neg\"\n",
        "  "
      ],
      "metadata": {
        "id": "3erwNgqHBEu8"
      },
      "execution_count": null,
      "outputs": []
    },
    {
      "cell_type": "code",
      "source": [
        "text_data[\"Label\"] = text_data[\"Score\"].apply(Label_data) "
      ],
      "metadata": {
        "id": "6uT90s_EFGTc"
      },
      "execution_count": null,
      "outputs": []
    },
    {
      "cell_type": "code",
      "source": [
        "text_data.head()"
      ],
      "metadata": {
        "colab": {
          "base_uri": "https://localhost:8080/",
          "height": 206
        },
        "id": "YyAqD_wHJs0a",
        "outputId": "0d0c6343-1b0b-47f7-c320-0448b685a564"
      },
      "execution_count": null,
      "outputs": [
        {
          "output_type": "execute_result",
          "data": {
            "text/plain": [
              "                             Query                                  Response  \\\n",
              "0             hi how are you doing             i'm fine. how about yourself?   \n",
              "1        i fine how about yourself       i'm pretty good. thanks for asking.   \n",
              "2  i pretty good thanks for asking         no problem. so how have you been?   \n",
              "3  no problem so how have you been          i've been great. what about you?   \n",
              "4      i been great what about you  i've been good. i'm in school right now.   \n",
              "\n",
              "    Score Label  \n",
              "0  0.0000   neg  \n",
              "1  0.2023   neg  \n",
              "2  0.8402   pos  \n",
              "3 -0.5994   neg  \n",
              "4  0.6249   pos  "
            ],
            "text/html": [
              "\n",
              "  <div id=\"df-d789df91-8544-4397-8937-aa800769e97d\">\n",
              "    <div class=\"colab-df-container\">\n",
              "      <div>\n",
              "<style scoped>\n",
              "    .dataframe tbody tr th:only-of-type {\n",
              "        vertical-align: middle;\n",
              "    }\n",
              "\n",
              "    .dataframe tbody tr th {\n",
              "        vertical-align: top;\n",
              "    }\n",
              "\n",
              "    .dataframe thead th {\n",
              "        text-align: right;\n",
              "    }\n",
              "</style>\n",
              "<table border=\"1\" class=\"dataframe\">\n",
              "  <thead>\n",
              "    <tr style=\"text-align: right;\">\n",
              "      <th></th>\n",
              "      <th>Query</th>\n",
              "      <th>Response</th>\n",
              "      <th>Score</th>\n",
              "      <th>Label</th>\n",
              "    </tr>\n",
              "  </thead>\n",
              "  <tbody>\n",
              "    <tr>\n",
              "      <th>0</th>\n",
              "      <td>hi how are you doing</td>\n",
              "      <td>i'm fine. how about yourself?</td>\n",
              "      <td>0.0000</td>\n",
              "      <td>neg</td>\n",
              "    </tr>\n",
              "    <tr>\n",
              "      <th>1</th>\n",
              "      <td>i fine how about yourself</td>\n",
              "      <td>i'm pretty good. thanks for asking.</td>\n",
              "      <td>0.2023</td>\n",
              "      <td>neg</td>\n",
              "    </tr>\n",
              "    <tr>\n",
              "      <th>2</th>\n",
              "      <td>i pretty good thanks for asking</td>\n",
              "      <td>no problem. so how have you been?</td>\n",
              "      <td>0.8402</td>\n",
              "      <td>pos</td>\n",
              "    </tr>\n",
              "    <tr>\n",
              "      <th>3</th>\n",
              "      <td>no problem so how have you been</td>\n",
              "      <td>i've been great. what about you?</td>\n",
              "      <td>-0.5994</td>\n",
              "      <td>neg</td>\n",
              "    </tr>\n",
              "    <tr>\n",
              "      <th>4</th>\n",
              "      <td>i been great what about you</td>\n",
              "      <td>i've been good. i'm in school right now.</td>\n",
              "      <td>0.6249</td>\n",
              "      <td>pos</td>\n",
              "    </tr>\n",
              "  </tbody>\n",
              "</table>\n",
              "</div>\n",
              "      <button class=\"colab-df-convert\" onclick=\"convertToInteractive('df-d789df91-8544-4397-8937-aa800769e97d')\"\n",
              "              title=\"Convert this dataframe to an interactive table.\"\n",
              "              style=\"display:none;\">\n",
              "        \n",
              "  <svg xmlns=\"http://www.w3.org/2000/svg\" height=\"24px\"viewBox=\"0 0 24 24\"\n",
              "       width=\"24px\">\n",
              "    <path d=\"M0 0h24v24H0V0z\" fill=\"none\"/>\n",
              "    <path d=\"M18.56 5.44l.94 2.06.94-2.06 2.06-.94-2.06-.94-.94-2.06-.94 2.06-2.06.94zm-11 1L8.5 8.5l.94-2.06 2.06-.94-2.06-.94L8.5 2.5l-.94 2.06-2.06.94zm10 10l.94 2.06.94-2.06 2.06-.94-2.06-.94-.94-2.06-.94 2.06-2.06.94z\"/><path d=\"M17.41 7.96l-1.37-1.37c-.4-.4-.92-.59-1.43-.59-.52 0-1.04.2-1.43.59L10.3 9.45l-7.72 7.72c-.78.78-.78 2.05 0 2.83L4 21.41c.39.39.9.59 1.41.59.51 0 1.02-.2 1.41-.59l7.78-7.78 2.81-2.81c.8-.78.8-2.07 0-2.86zM5.41 20L4 18.59l7.72-7.72 1.47 1.35L5.41 20z\"/>\n",
              "  </svg>\n",
              "      </button>\n",
              "      \n",
              "  <style>\n",
              "    .colab-df-container {\n",
              "      display:flex;\n",
              "      flex-wrap:wrap;\n",
              "      gap: 12px;\n",
              "    }\n",
              "\n",
              "    .colab-df-convert {\n",
              "      background-color: #E8F0FE;\n",
              "      border: none;\n",
              "      border-radius: 50%;\n",
              "      cursor: pointer;\n",
              "      display: none;\n",
              "      fill: #1967D2;\n",
              "      height: 32px;\n",
              "      padding: 0 0 0 0;\n",
              "      width: 32px;\n",
              "    }\n",
              "\n",
              "    .colab-df-convert:hover {\n",
              "      background-color: #E2EBFA;\n",
              "      box-shadow: 0px 1px 2px rgba(60, 64, 67, 0.3), 0px 1px 3px 1px rgba(60, 64, 67, 0.15);\n",
              "      fill: #174EA6;\n",
              "    }\n",
              "\n",
              "    [theme=dark] .colab-df-convert {\n",
              "      background-color: #3B4455;\n",
              "      fill: #D2E3FC;\n",
              "    }\n",
              "\n",
              "    [theme=dark] .colab-df-convert:hover {\n",
              "      background-color: #434B5C;\n",
              "      box-shadow: 0px 1px 3px 1px rgba(0, 0, 0, 0.15);\n",
              "      filter: drop-shadow(0px 1px 2px rgba(0, 0, 0, 0.3));\n",
              "      fill: #FFFFFF;\n",
              "    }\n",
              "  </style>\n",
              "\n",
              "      <script>\n",
              "        const buttonEl =\n",
              "          document.querySelector('#df-d789df91-8544-4397-8937-aa800769e97d button.colab-df-convert');\n",
              "        buttonEl.style.display =\n",
              "          google.colab.kernel.accessAllowed ? 'block' : 'none';\n",
              "\n",
              "        async function convertToInteractive(key) {\n",
              "          const element = document.querySelector('#df-d789df91-8544-4397-8937-aa800769e97d');\n",
              "          const dataTable =\n",
              "            await google.colab.kernel.invokeFunction('convertToInteractive',\n",
              "                                                     [key], {});\n",
              "          if (!dataTable) return;\n",
              "\n",
              "          const docLinkHtml = 'Like what you see? Visit the ' +\n",
              "            '<a target=\"_blank\" href=https://colab.research.google.com/notebooks/data_table.ipynb>data table notebook</a>'\n",
              "            + ' to learn more about interactive tables.';\n",
              "          element.innerHTML = '';\n",
              "          dataTable['output_type'] = 'display_data';\n",
              "          await google.colab.output.renderOutput(dataTable, element);\n",
              "          const docLink = document.createElement('div');\n",
              "          docLink.innerHTML = docLinkHtml;\n",
              "          element.appendChild(docLink);\n",
              "        }\n",
              "      </script>\n",
              "    </div>\n",
              "  </div>\n",
              "  "
            ]
          },
          "metadata": {},
          "execution_count": 28
        }
      ]
    },
    {
      "cell_type": "markdown",
      "source": [
        "**Model Building**"
      ],
      "metadata": {
        "id": "awgGqXIsyGiC"
      }
    },
    {
      "cell_type": "code",
      "source": [
        "#Label Encoding\n",
        "from sklearn.preprocessing import LabelEncoder\n",
        "lb = LabelEncoder()\n",
        "text_data[\"Label\"] = lb.fit_transform(text_data[\"Label\"])"
      ],
      "metadata": {
        "id": "A45UQzndUnLi"
      },
      "execution_count": null,
      "outputs": []
    },
    {
      "cell_type": "code",
      "source": [
        "# Spliting the data\n",
        "X = text_data[\"Query\"]\n",
        "Y = text_data[\"Label\"]\n"
      ],
      "metadata": {
        "id": "uS5FvzuRJw1C"
      },
      "execution_count": null,
      "outputs": []
    },
    {
      "cell_type": "code",
      "source": [
        "# Apply train test split on X and Y variable\n",
        "from sklearn.model_selection import train_test_split\n",
        "xtrain, xtest, ytrain, ytest = train_test_split(X, Y, test_size=0.3, random_state=1)"
      ],
      "metadata": {
        "id": "Nxq5Y_5Sasvh"
      },
      "execution_count": null,
      "outputs": []
    },
    {
      "cell_type": "code",
      "source": [
        "# Counting number of word in each sentence\n",
        "sentlen = []\n",
        "for sent in text_data[\"Query\"]:\n",
        "  sentlen.append(len(word_tokenize(sent)))\n",
        "\n",
        "text_data[\"Sentlen\"] = sentlen\n",
        "text_data.head()\n"
      ],
      "metadata": {
        "colab": {
          "base_uri": "https://localhost:8080/",
          "height": 206
        },
        "id": "tf-j_xwrm9Qu",
        "outputId": "80a04a70-ffc6-4f10-bf9b-27ed0b0e602c"
      },
      "execution_count": null,
      "outputs": [
        {
          "output_type": "execute_result",
          "data": {
            "text/plain": [
              "                             Query                                  Response  \\\n",
              "0             hi how are you doing             i'm fine. how about yourself?   \n",
              "1        i fine how about yourself       i'm pretty good. thanks for asking.   \n",
              "2  i pretty good thanks for asking         no problem. so how have you been?   \n",
              "3  no problem so how have you been          i've been great. what about you?   \n",
              "4      i been great what about you  i've been good. i'm in school right now.   \n",
              "\n",
              "    Score  Label  Sentlen  \n",
              "0  0.0000      0        5  \n",
              "1  0.2023      0        5  \n",
              "2  0.8402      1        6  \n",
              "3 -0.5994      0        7  \n",
              "4  0.6249      1        6  "
            ],
            "text/html": [
              "\n",
              "  <div id=\"df-816e6d00-b3a7-4ab1-be61-94d525d7d424\">\n",
              "    <div class=\"colab-df-container\">\n",
              "      <div>\n",
              "<style scoped>\n",
              "    .dataframe tbody tr th:only-of-type {\n",
              "        vertical-align: middle;\n",
              "    }\n",
              "\n",
              "    .dataframe tbody tr th {\n",
              "        vertical-align: top;\n",
              "    }\n",
              "\n",
              "    .dataframe thead th {\n",
              "        text-align: right;\n",
              "    }\n",
              "</style>\n",
              "<table border=\"1\" class=\"dataframe\">\n",
              "  <thead>\n",
              "    <tr style=\"text-align: right;\">\n",
              "      <th></th>\n",
              "      <th>Query</th>\n",
              "      <th>Response</th>\n",
              "      <th>Score</th>\n",
              "      <th>Label</th>\n",
              "      <th>Sentlen</th>\n",
              "    </tr>\n",
              "  </thead>\n",
              "  <tbody>\n",
              "    <tr>\n",
              "      <th>0</th>\n",
              "      <td>hi how are you doing</td>\n",
              "      <td>i'm fine. how about yourself?</td>\n",
              "      <td>0.0000</td>\n",
              "      <td>0</td>\n",
              "      <td>5</td>\n",
              "    </tr>\n",
              "    <tr>\n",
              "      <th>1</th>\n",
              "      <td>i fine how about yourself</td>\n",
              "      <td>i'm pretty good. thanks for asking.</td>\n",
              "      <td>0.2023</td>\n",
              "      <td>0</td>\n",
              "      <td>5</td>\n",
              "    </tr>\n",
              "    <tr>\n",
              "      <th>2</th>\n",
              "      <td>i pretty good thanks for asking</td>\n",
              "      <td>no problem. so how have you been?</td>\n",
              "      <td>0.8402</td>\n",
              "      <td>1</td>\n",
              "      <td>6</td>\n",
              "    </tr>\n",
              "    <tr>\n",
              "      <th>3</th>\n",
              "      <td>no problem so how have you been</td>\n",
              "      <td>i've been great. what about you?</td>\n",
              "      <td>-0.5994</td>\n",
              "      <td>0</td>\n",
              "      <td>7</td>\n",
              "    </tr>\n",
              "    <tr>\n",
              "      <th>4</th>\n",
              "      <td>i been great what about you</td>\n",
              "      <td>i've been good. i'm in school right now.</td>\n",
              "      <td>0.6249</td>\n",
              "      <td>1</td>\n",
              "      <td>6</td>\n",
              "    </tr>\n",
              "  </tbody>\n",
              "</table>\n",
              "</div>\n",
              "      <button class=\"colab-df-convert\" onclick=\"convertToInteractive('df-816e6d00-b3a7-4ab1-be61-94d525d7d424')\"\n",
              "              title=\"Convert this dataframe to an interactive table.\"\n",
              "              style=\"display:none;\">\n",
              "        \n",
              "  <svg xmlns=\"http://www.w3.org/2000/svg\" height=\"24px\"viewBox=\"0 0 24 24\"\n",
              "       width=\"24px\">\n",
              "    <path d=\"M0 0h24v24H0V0z\" fill=\"none\"/>\n",
              "    <path d=\"M18.56 5.44l.94 2.06.94-2.06 2.06-.94-2.06-.94-.94-2.06-.94 2.06-2.06.94zm-11 1L8.5 8.5l.94-2.06 2.06-.94-2.06-.94L8.5 2.5l-.94 2.06-2.06.94zm10 10l.94 2.06.94-2.06 2.06-.94-2.06-.94-.94-2.06-.94 2.06-2.06.94z\"/><path d=\"M17.41 7.96l-1.37-1.37c-.4-.4-.92-.59-1.43-.59-.52 0-1.04.2-1.43.59L10.3 9.45l-7.72 7.72c-.78.78-.78 2.05 0 2.83L4 21.41c.39.39.9.59 1.41.59.51 0 1.02-.2 1.41-.59l7.78-7.78 2.81-2.81c.8-.78.8-2.07 0-2.86zM5.41 20L4 18.59l7.72-7.72 1.47 1.35L5.41 20z\"/>\n",
              "  </svg>\n",
              "      </button>\n",
              "      \n",
              "  <style>\n",
              "    .colab-df-container {\n",
              "      display:flex;\n",
              "      flex-wrap:wrap;\n",
              "      gap: 12px;\n",
              "    }\n",
              "\n",
              "    .colab-df-convert {\n",
              "      background-color: #E8F0FE;\n",
              "      border: none;\n",
              "      border-radius: 50%;\n",
              "      cursor: pointer;\n",
              "      display: none;\n",
              "      fill: #1967D2;\n",
              "      height: 32px;\n",
              "      padding: 0 0 0 0;\n",
              "      width: 32px;\n",
              "    }\n",
              "\n",
              "    .colab-df-convert:hover {\n",
              "      background-color: #E2EBFA;\n",
              "      box-shadow: 0px 1px 2px rgba(60, 64, 67, 0.3), 0px 1px 3px 1px rgba(60, 64, 67, 0.15);\n",
              "      fill: #174EA6;\n",
              "    }\n",
              "\n",
              "    [theme=dark] .colab-df-convert {\n",
              "      background-color: #3B4455;\n",
              "      fill: #D2E3FC;\n",
              "    }\n",
              "\n",
              "    [theme=dark] .colab-df-convert:hover {\n",
              "      background-color: #434B5C;\n",
              "      box-shadow: 0px 1px 3px 1px rgba(0, 0, 0, 0.15);\n",
              "      filter: drop-shadow(0px 1px 2px rgba(0, 0, 0, 0.3));\n",
              "      fill: #FFFFFF;\n",
              "    }\n",
              "  </style>\n",
              "\n",
              "      <script>\n",
              "        const buttonEl =\n",
              "          document.querySelector('#df-816e6d00-b3a7-4ab1-be61-94d525d7d424 button.colab-df-convert');\n",
              "        buttonEl.style.display =\n",
              "          google.colab.kernel.accessAllowed ? 'block' : 'none';\n",
              "\n",
              "        async function convertToInteractive(key) {\n",
              "          const element = document.querySelector('#df-816e6d00-b3a7-4ab1-be61-94d525d7d424');\n",
              "          const dataTable =\n",
              "            await google.colab.kernel.invokeFunction('convertToInteractive',\n",
              "                                                     [key], {});\n",
              "          if (!dataTable) return;\n",
              "\n",
              "          const docLinkHtml = 'Like what you see? Visit the ' +\n",
              "            '<a target=\"_blank\" href=https://colab.research.google.com/notebooks/data_table.ipynb>data table notebook</a>'\n",
              "            + ' to learn more about interactive tables.';\n",
              "          element.innerHTML = '';\n",
              "          dataTable['output_type'] = 'display_data';\n",
              "          await google.colab.output.renderOutput(dataTable, element);\n",
              "          const docLink = document.createElement('div');\n",
              "          docLink.innerHTML = docLinkHtml;\n",
              "          element.appendChild(docLink);\n",
              "        }\n",
              "      </script>\n",
              "    </div>\n",
              "  </div>\n",
              "  "
            ]
          },
          "metadata": {},
          "execution_count": 32
        }
      ]
    },
    {
      "cell_type": "code",
      "source": [
        "text_data.info()"
      ],
      "metadata": {
        "colab": {
          "base_uri": "https://localhost:8080/"
        },
        "id": "0ItiNt9tGlOR",
        "outputId": "4d47c370-a967-4d04-fd7a-9291de32bf6b"
      },
      "execution_count": null,
      "outputs": [
        {
          "output_type": "stream",
          "name": "stdout",
          "text": [
            "<class 'pandas.core.frame.DataFrame'>\n",
            "RangeIndex: 3725 entries, 0 to 3724\n",
            "Data columns (total 5 columns):\n",
            " #   Column    Non-Null Count  Dtype  \n",
            "---  ------    --------------  -----  \n",
            " 0   Query     3725 non-null   object \n",
            " 1   Response  3725 non-null   object \n",
            " 2   Score     3725 non-null   float64\n",
            " 3   Label     3725 non-null   int64  \n",
            " 4   Sentlen   3725 non-null   int64  \n",
            "dtypes: float64(1), int64(2), object(2)\n",
            "memory usage: 145.6+ KB\n"
          ]
        }
      ]
    },
    {
      "cell_type": "code",
      "source": [
        "# Maxinum length of sentence\n",
        "max(sentlen)"
      ],
      "metadata": {
        "colab": {
          "base_uri": "https://localhost:8080/"
        },
        "id": "KSzHbu-mqHc5",
        "outputId": "522bf14a-39e4-4d69-bdd6-3f76098808f2"
      },
      "execution_count": null,
      "outputs": [
        {
          "output_type": "execute_result",
          "data": {
            "text/plain": [
              "19"
            ]
          },
          "metadata": {},
          "execution_count": 34
        }
      ]
    },
    {
      "cell_type": "code",
      "source": [
        "# 95% of sentence length is 11 \n",
        "max_len = np.quantile(sentlen, 0.95)\n",
        "max_len"
      ],
      "metadata": {
        "colab": {
          "base_uri": "https://localhost:8080/"
        },
        "id": "HecErsWTqRx9",
        "outputId": "0934e01a-9900-4ad6-d334-c0320a9416e3"
      },
      "execution_count": null,
      "outputs": [
        {
          "output_type": "execute_result",
          "data": {
            "text/plain": [
              "11.0"
            ]
          },
          "metadata": {},
          "execution_count": 35
        }
      ]
    },
    {
      "cell_type": "code",
      "source": [
        "# Tokenize sentence word level\n",
        "tok = Tokenizer(char_level = False , split = \" \")\n",
        "\n",
        "tok.fit_on_texts(xtrain)"
      ],
      "metadata": {
        "id": "WzLzasB7quY6"
      },
      "execution_count": null,
      "outputs": []
    },
    {
      "cell_type": "code",
      "source": [
        "vocab_len = len(tok.index_word)\n",
        "vocab_len"
      ],
      "metadata": {
        "colab": {
          "base_uri": "https://localhost:8080/"
        },
        "id": "1TEY2jOhr7Gx",
        "outputId": "4fcd8944-c777-48ce-ea3c-6bce76d106ff"
      },
      "execution_count": null,
      "outputs": [
        {
          "output_type": "execute_result",
          "data": {
            "text/plain": [
              "1773"
            ]
          },
          "metadata": {},
          "execution_count": 37
        }
      ]
    },
    {
      "cell_type": "code",
      "source": [
        "# Converting text to sequences\n",
        "seqtrain = tok.texts_to_sequences(xtrain)"
      ],
      "metadata": {
        "id": "6xFnm9GfyG8g"
      },
      "execution_count": null,
      "outputs": []
    },
    {
      "cell_type": "code",
      "source": [
        "# Converting text into unqiue value vector\n",
        "seqmatrain = sequence.pad_sequences(seqtrain, truncating='post',maxlen= int(max_len))\n",
        "seqmatrain"
      ],
      "metadata": {
        "colab": {
          "base_uri": "https://localhost:8080/"
        },
        "id": "8kcyw45ty7W2",
        "outputId": "64cfc6aa-4e9a-4c88-f2c0-7a2599baaa25"
      },
      "execution_count": null,
      "outputs": [
        {
          "output_type": "execute_result",
          "data": {
            "text/plain": [
              "array([[   0,    0,    0, ...,   78,  112,   58],\n",
              "       [   0,    0,    0, ...,    9,    2,   11],\n",
              "       [   0,    0,    0, ...,    1,   35,   28],\n",
              "       ...,\n",
              "       [   0,    1,  326, ...,  867,   49,   58],\n",
              "       [   0,    0,    0, ...,    2,  168,   84],\n",
              "       [   0,    0,    0, ...,  230,   15, 1021]], dtype=int32)"
            ]
          },
          "metadata": {},
          "execution_count": 39
        }
      ]
    },
    {
      "cell_type": "code",
      "source": [
        "# Converting text into unqiue value vector\n",
        "seqtest = tok.texts_to_sequences(xtest)\n",
        "seqmatest = sequence.pad_sequences(seqtest,truncating=\"post\",maxlen= int(max_len))\n",
        "seqmatest"
      ],
      "metadata": {
        "colab": {
          "base_uri": "https://localhost:8080/"
        },
        "id": "hRTknbemzZp2",
        "outputId": "1c118a07-de91-413e-93c8-8b8fdd9598d2"
      },
      "execution_count": null,
      "outputs": [
        {
          "output_type": "execute_result",
          "data": {
            "text/plain": [
              "array([[   0,    0,    0, ..., 1172,   55,   17],\n",
              "       [   0,    0,    0, ...,   93,    1,   22],\n",
              "       [   0,    0,  105, ...,    3,  396,  434],\n",
              "       ...,\n",
              "       [   0,    0,    0, ...,    1,   41,    3],\n",
              "       [   0,    0,    0, ...,   18,   48,  109],\n",
              "       [   0,    0,    0, ...,   96,   93,    4]], dtype=int32)"
            ]
          },
          "metadata": {},
          "execution_count": 40
        }
      ]
    },
    {
      "cell_type": "code",
      "source": [
        "# Design a model which will predict query is positive or negative\n",
        "lstm = Sequential()\n",
        "\n",
        "lstm.add(Embedding(vocab_len+1,16, input_length=int(max_len), mask_zero=True))\n",
        "\n",
        "lstm.add(LSTM(units=16, activation=\"relu\"))\n",
        "\n",
        "lstm.add(Dense(units=16, activation=\"relu\"))\n",
        "\n",
        "lstm.add(Dropout(0.2))\n",
        "\n",
        "lstm.add(Dense(units=1, activation=\"sigmoid\"))\n",
        "\n",
        "lstm.compile(loss = \"binary_crossentropy\",optimizer=\"adam\",metrics=[\"accuracy\"])\n"
      ],
      "metadata": {
        "id": "piTArDsj0SWX"
      },
      "execution_count": null,
      "outputs": []
    },
    {
      "cell_type": "code",
      "source": [
        "lstm.summary()"
      ],
      "metadata": {
        "colab": {
          "base_uri": "https://localhost:8080/"
        },
        "id": "Du-ex5f87WmK",
        "outputId": "94972623-0ab4-4614-c81e-064284d5a7e1"
      },
      "execution_count": null,
      "outputs": [
        {
          "output_type": "stream",
          "name": "stdout",
          "text": [
            "Model: \"sequential\"\n",
            "_________________________________________________________________\n",
            " Layer (type)                Output Shape              Param #   \n",
            "=================================================================\n",
            " embedding (Embedding)       (None, 11, 16)            28384     \n",
            "                                                                 \n",
            " lstm (LSTM)                 (None, 16)                2112      \n",
            "                                                                 \n",
            " dense (Dense)               (None, 16)                272       \n",
            "                                                                 \n",
            " dropout (Dropout)           (None, 16)                0         \n",
            "                                                                 \n",
            " dense_1 (Dense)             (None, 1)                 17        \n",
            "                                                                 \n",
            "=================================================================\n",
            "Total params: 30,785\n",
            "Trainable params: 30,785\n",
            "Non-trainable params: 0\n",
            "_________________________________________________________________\n"
          ]
        }
      ]
    },
    {
      "cell_type": "code",
      "source": [
        "lstm.fit(seqmatrain, np.array(ytrain) ,batch_size=50, epochs=100)\n"
      ],
      "metadata": {
        "id": "G2TESgHgRsZ7"
      },
      "execution_count": null,
      "outputs": []
    },
    {
      "cell_type": "code",
      "source": [
        "query = tok.texts_to_sequences(text_data[\"Query\"])\n",
        "query = sequence.pad_sequences(query , maxlen= int(max_len))"
      ],
      "metadata": {
        "id": "VftRyDfpzYPo"
      },
      "execution_count": null,
      "outputs": []
    },
    {
      "cell_type": "code",
      "source": [
        "\n",
        "ypred = lstm.predict(query)\n",
        "\n",
        "ypred = ypred>0.5\n",
        "text_data[\"Model_label\"] = ypred\n"
      ],
      "metadata": {
        "id": "nUxHYYzWhZIx"
      },
      "execution_count": null,
      "outputs": []
    },
    {
      "cell_type": "code",
      "source": [
        "text_data[\"Model_label\"] = text_data[\"Model_label\"].replace(False, \"neg\")\n",
        "text_data[\"Model_label\"] = text_data[\"Model_label\"].replace(True , \"pos\")"
      ],
      "metadata": {
        "id": "GofNkyuR0oWA"
      },
      "execution_count": null,
      "outputs": []
    },
    {
      "cell_type": "code",
      "source": [
        "#Creating dependent column by using sentiment analysis\n",
        "text_data.head(10)"
      ],
      "metadata": {
        "colab": {
          "base_uri": "https://localhost:8080/",
          "height": 363
        },
        "id": "eZul1o_W0qEt",
        "outputId": "8647d3f0-f363-4ea3-c5eb-071c69303e40"
      },
      "execution_count": null,
      "outputs": [
        {
          "output_type": "execute_result",
          "data": {
            "text/plain": [
              "                               Query  \\\n",
              "0               hi how are you doing   \n",
              "1          i fine how about yourself   \n",
              "2    i pretty good thanks for asking   \n",
              "3    no problem so how have you been   \n",
              "4        i been great what about you   \n",
              "5  i been good i in school right now   \n",
              "6           what school do you go to   \n",
              "7                        i go to pcc   \n",
              "8               do you like it there   \n",
              "9     it okay it a really big campus   \n",
              "\n",
              "                                   Response   Score  Label  Sentlen  \\\n",
              "0             i'm fine. how about yourself?  0.0000      0        5   \n",
              "1       i'm pretty good. thanks for asking.  0.2023      0        5   \n",
              "2         no problem. so how have you been?  0.8402      1        6   \n",
              "3          i've been great. what about you? -0.5994      0        7   \n",
              "4  i've been good. i'm in school right now.  0.6249      1        6   \n",
              "5                 what school do you go to?  0.4404      0        8   \n",
              "6                              i go to pcc.  0.0000      0        6   \n",
              "7                     do you like it there?  0.0000      0        4   \n",
              "8      it's okay. it's a really big campus.  0.3612      0        5   \n",
              "9                    good luck with school.  0.2263      0        7   \n",
              "\n",
              "  Model_label  \n",
              "0         neg  \n",
              "1         neg  \n",
              "2         pos  \n",
              "3         neg  \n",
              "4         pos  \n",
              "5         neg  \n",
              "6         neg  \n",
              "7         neg  \n",
              "8         neg  \n",
              "9         neg  "
            ],
            "text/html": [
              "\n",
              "  <div id=\"df-c0bcd496-d2b9-4bfc-ad22-d6d31208acf0\">\n",
              "    <div class=\"colab-df-container\">\n",
              "      <div>\n",
              "<style scoped>\n",
              "    .dataframe tbody tr th:only-of-type {\n",
              "        vertical-align: middle;\n",
              "    }\n",
              "\n",
              "    .dataframe tbody tr th {\n",
              "        vertical-align: top;\n",
              "    }\n",
              "\n",
              "    .dataframe thead th {\n",
              "        text-align: right;\n",
              "    }\n",
              "</style>\n",
              "<table border=\"1\" class=\"dataframe\">\n",
              "  <thead>\n",
              "    <tr style=\"text-align: right;\">\n",
              "      <th></th>\n",
              "      <th>Query</th>\n",
              "      <th>Response</th>\n",
              "      <th>Score</th>\n",
              "      <th>Label</th>\n",
              "      <th>Sentlen</th>\n",
              "      <th>Model_label</th>\n",
              "    </tr>\n",
              "  </thead>\n",
              "  <tbody>\n",
              "    <tr>\n",
              "      <th>0</th>\n",
              "      <td>hi how are you doing</td>\n",
              "      <td>i'm fine. how about yourself?</td>\n",
              "      <td>0.0000</td>\n",
              "      <td>0</td>\n",
              "      <td>5</td>\n",
              "      <td>neg</td>\n",
              "    </tr>\n",
              "    <tr>\n",
              "      <th>1</th>\n",
              "      <td>i fine how about yourself</td>\n",
              "      <td>i'm pretty good. thanks for asking.</td>\n",
              "      <td>0.2023</td>\n",
              "      <td>0</td>\n",
              "      <td>5</td>\n",
              "      <td>neg</td>\n",
              "    </tr>\n",
              "    <tr>\n",
              "      <th>2</th>\n",
              "      <td>i pretty good thanks for asking</td>\n",
              "      <td>no problem. so how have you been?</td>\n",
              "      <td>0.8402</td>\n",
              "      <td>1</td>\n",
              "      <td>6</td>\n",
              "      <td>pos</td>\n",
              "    </tr>\n",
              "    <tr>\n",
              "      <th>3</th>\n",
              "      <td>no problem so how have you been</td>\n",
              "      <td>i've been great. what about you?</td>\n",
              "      <td>-0.5994</td>\n",
              "      <td>0</td>\n",
              "      <td>7</td>\n",
              "      <td>neg</td>\n",
              "    </tr>\n",
              "    <tr>\n",
              "      <th>4</th>\n",
              "      <td>i been great what about you</td>\n",
              "      <td>i've been good. i'm in school right now.</td>\n",
              "      <td>0.6249</td>\n",
              "      <td>1</td>\n",
              "      <td>6</td>\n",
              "      <td>pos</td>\n",
              "    </tr>\n",
              "    <tr>\n",
              "      <th>5</th>\n",
              "      <td>i been good i in school right now</td>\n",
              "      <td>what school do you go to?</td>\n",
              "      <td>0.4404</td>\n",
              "      <td>0</td>\n",
              "      <td>8</td>\n",
              "      <td>neg</td>\n",
              "    </tr>\n",
              "    <tr>\n",
              "      <th>6</th>\n",
              "      <td>what school do you go to</td>\n",
              "      <td>i go to pcc.</td>\n",
              "      <td>0.0000</td>\n",
              "      <td>0</td>\n",
              "      <td>6</td>\n",
              "      <td>neg</td>\n",
              "    </tr>\n",
              "    <tr>\n",
              "      <th>7</th>\n",
              "      <td>i go to pcc</td>\n",
              "      <td>do you like it there?</td>\n",
              "      <td>0.0000</td>\n",
              "      <td>0</td>\n",
              "      <td>4</td>\n",
              "      <td>neg</td>\n",
              "    </tr>\n",
              "    <tr>\n",
              "      <th>8</th>\n",
              "      <td>do you like it there</td>\n",
              "      <td>it's okay. it's a really big campus.</td>\n",
              "      <td>0.3612</td>\n",
              "      <td>0</td>\n",
              "      <td>5</td>\n",
              "      <td>neg</td>\n",
              "    </tr>\n",
              "    <tr>\n",
              "      <th>9</th>\n",
              "      <td>it okay it a really big campus</td>\n",
              "      <td>good luck with school.</td>\n",
              "      <td>0.2263</td>\n",
              "      <td>0</td>\n",
              "      <td>7</td>\n",
              "      <td>neg</td>\n",
              "    </tr>\n",
              "  </tbody>\n",
              "</table>\n",
              "</div>\n",
              "      <button class=\"colab-df-convert\" onclick=\"convertToInteractive('df-c0bcd496-d2b9-4bfc-ad22-d6d31208acf0')\"\n",
              "              title=\"Convert this dataframe to an interactive table.\"\n",
              "              style=\"display:none;\">\n",
              "        \n",
              "  <svg xmlns=\"http://www.w3.org/2000/svg\" height=\"24px\"viewBox=\"0 0 24 24\"\n",
              "       width=\"24px\">\n",
              "    <path d=\"M0 0h24v24H0V0z\" fill=\"none\"/>\n",
              "    <path d=\"M18.56 5.44l.94 2.06.94-2.06 2.06-.94-2.06-.94-.94-2.06-.94 2.06-2.06.94zm-11 1L8.5 8.5l.94-2.06 2.06-.94-2.06-.94L8.5 2.5l-.94 2.06-2.06.94zm10 10l.94 2.06.94-2.06 2.06-.94-2.06-.94-.94-2.06-.94 2.06-2.06.94z\"/><path d=\"M17.41 7.96l-1.37-1.37c-.4-.4-.92-.59-1.43-.59-.52 0-1.04.2-1.43.59L10.3 9.45l-7.72 7.72c-.78.78-.78 2.05 0 2.83L4 21.41c.39.39.9.59 1.41.59.51 0 1.02-.2 1.41-.59l7.78-7.78 2.81-2.81c.8-.78.8-2.07 0-2.86zM5.41 20L4 18.59l7.72-7.72 1.47 1.35L5.41 20z\"/>\n",
              "  </svg>\n",
              "      </button>\n",
              "      \n",
              "  <style>\n",
              "    .colab-df-container {\n",
              "      display:flex;\n",
              "      flex-wrap:wrap;\n",
              "      gap: 12px;\n",
              "    }\n",
              "\n",
              "    .colab-df-convert {\n",
              "      background-color: #E8F0FE;\n",
              "      border: none;\n",
              "      border-radius: 50%;\n",
              "      cursor: pointer;\n",
              "      display: none;\n",
              "      fill: #1967D2;\n",
              "      height: 32px;\n",
              "      padding: 0 0 0 0;\n",
              "      width: 32px;\n",
              "    }\n",
              "\n",
              "    .colab-df-convert:hover {\n",
              "      background-color: #E2EBFA;\n",
              "      box-shadow: 0px 1px 2px rgba(60, 64, 67, 0.3), 0px 1px 3px 1px rgba(60, 64, 67, 0.15);\n",
              "      fill: #174EA6;\n",
              "    }\n",
              "\n",
              "    [theme=dark] .colab-df-convert {\n",
              "      background-color: #3B4455;\n",
              "      fill: #D2E3FC;\n",
              "    }\n",
              "\n",
              "    [theme=dark] .colab-df-convert:hover {\n",
              "      background-color: #434B5C;\n",
              "      box-shadow: 0px 1px 3px 1px rgba(0, 0, 0, 0.15);\n",
              "      filter: drop-shadow(0px 1px 2px rgba(0, 0, 0, 0.3));\n",
              "      fill: #FFFFFF;\n",
              "    }\n",
              "  </style>\n",
              "\n",
              "      <script>\n",
              "        const buttonEl =\n",
              "          document.querySelector('#df-c0bcd496-d2b9-4bfc-ad22-d6d31208acf0 button.colab-df-convert');\n",
              "        buttonEl.style.display =\n",
              "          google.colab.kernel.accessAllowed ? 'block' : 'none';\n",
              "\n",
              "        async function convertToInteractive(key) {\n",
              "          const element = document.querySelector('#df-c0bcd496-d2b9-4bfc-ad22-d6d31208acf0');\n",
              "          const dataTable =\n",
              "            await google.colab.kernel.invokeFunction('convertToInteractive',\n",
              "                                                     [key], {});\n",
              "          if (!dataTable) return;\n",
              "\n",
              "          const docLinkHtml = 'Like what you see? Visit the ' +\n",
              "            '<a target=\"_blank\" href=https://colab.research.google.com/notebooks/data_table.ipynb>data table notebook</a>'\n",
              "            + ' to learn more about interactive tables.';\n",
              "          element.innerHTML = '';\n",
              "          dataTable['output_type'] = 'display_data';\n",
              "          await google.colab.output.renderOutput(dataTable, element);\n",
              "          const docLink = document.createElement('div');\n",
              "          docLink.innerHTML = docLinkHtml;\n",
              "          element.appendChild(docLink);\n",
              "        }\n",
              "      </script>\n",
              "    </div>\n",
              "  </div>\n",
              "  "
            ]
          },
          "metadata": {},
          "execution_count": 109
        }
      ]
    },
    {
      "cell_type": "code",
      "source": [
        "#Confution matrix tell us number of correct predicted value by over model\n",
        "from sklearn.metrics import confusion_matrix\n",
        "confusion_matrix(ytest,ypred) "
      ],
      "metadata": {
        "colab": {
          "base_uri": "https://localhost:8080/"
        },
        "id": "mcM3XVUTyreS",
        "outputId": "5f1177b0-a014-4832-b057-a104e1b79e89"
      },
      "execution_count": null,
      "outputs": [
        {
          "output_type": "execute_result",
          "data": {
            "text/plain": [
              "array([[988,  19],\n",
              "       [ 46,  65]])"
            ]
          },
          "metadata": {},
          "execution_count": 45
        }
      ]
    },
    {
      "cell_type": "code",
      "source": [
        "from sklearn.metrics import classification_report\n",
        "print(classification_report(ytest, ypred))"
      ],
      "metadata": {
        "colab": {
          "base_uri": "https://localhost:8080/"
        },
        "id": "75FKI_hs5Tg0",
        "outputId": "828b33df-6d7d-482b-95e5-4732b276f4d1"
      },
      "execution_count": null,
      "outputs": [
        {
          "output_type": "stream",
          "name": "stdout",
          "text": [
            "              precision    recall  f1-score   support\n",
            "\n",
            "           0       0.96      0.98      0.97      1007\n",
            "           1       0.77      0.59      0.67       111\n",
            "\n",
            "    accuracy                           0.94      1118\n",
            "   macro avg       0.86      0.78      0.82      1118\n",
            "weighted avg       0.94      0.94      0.94      1118\n",
            "\n"
          ]
        }
      ]
    },
    {
      "cell_type": "code",
      "source": [
        "text_data.head(20)"
      ],
      "metadata": {
        "colab": {
          "base_uri": "https://localhost:8080/",
          "height": 677
        },
        "id": "1uSdoTgCs3Y_",
        "outputId": "5230b1d5-319a-4c43-8a42-a2c3d6b7520e"
      },
      "execution_count": null,
      "outputs": [
        {
          "output_type": "execute_result",
          "data": {
            "text/plain": [
              "                                Query  \\\n",
              "0                hi how are you doing   \n",
              "1           i fine how about yourself   \n",
              "2     i pretty good thanks for asking   \n",
              "3     no problem so how have you been   \n",
              "4         i been great what about you   \n",
              "5   i been good i in school right now   \n",
              "6            what school do you go to   \n",
              "7                         i go to pcc   \n",
              "8                do you like it there   \n",
              "9      it okay it a really big campus   \n",
              "10              good luck with school   \n",
              "11                       how it going   \n",
              "12         i doing well how about you   \n",
              "13                never better thanks   \n",
              "14        so how have you been lately   \n",
              "15    i actually been pretty good you   \n",
              "16     i actually in school right now   \n",
              "17         which school do you attend   \n",
              "18          i attending pcc right now   \n",
              "19          are you enjoying it there   \n",
              "\n",
              "                                          Response   Score  Label  Sentlen  \n",
              "0                    i'm fine. how about yourself?  0.0000      0        5  \n",
              "1              i'm pretty good. thanks for asking.  0.2023      0        5  \n",
              "2                no problem. so how have you been?  0.8402      1        6  \n",
              "3                 i've been great. what about you? -0.5994      0        7  \n",
              "4         i've been good. i'm in school right now.  0.6249      1        6  \n",
              "5                        what school do you go to?  0.4404      0        8  \n",
              "6                                     i go to pcc.  0.0000      0        6  \n",
              "7                            do you like it there?  0.0000      0        4  \n",
              "8             it's okay. it's a really big campus.  0.3612      0        5  \n",
              "9                           good luck with school.  0.2263      0        7  \n",
              "10                            thank you very much.  0.7096      1        4  \n",
              "11                  i'm doing well. how about you?  0.0000      0        3  \n",
              "12                           never better, thanks.  0.2732      0        6  \n",
              "13                    so how have you been lately? -0.5875      0        3  \n",
              "14            i've actually been pretty good. you?  0.0000      0        6  \n",
              "15               i'm actually in school right now.  0.7269      1        6  \n",
              "16                     which school do you attend?  0.0000      0        6  \n",
              "17                    i'm attending pcc right now.  0.0000      0        5  \n",
              "18                      are you enjoying it there?  0.0000      0        5  \n",
              "19  it's not bad. there are a lot of people there.  0.5267      1        5  "
            ],
            "text/html": [
              "\n",
              "  <div id=\"df-d4e428aa-77c6-4ef3-827f-5cefd4acb8bd\">\n",
              "    <div class=\"colab-df-container\">\n",
              "      <div>\n",
              "<style scoped>\n",
              "    .dataframe tbody tr th:only-of-type {\n",
              "        vertical-align: middle;\n",
              "    }\n",
              "\n",
              "    .dataframe tbody tr th {\n",
              "        vertical-align: top;\n",
              "    }\n",
              "\n",
              "    .dataframe thead th {\n",
              "        text-align: right;\n",
              "    }\n",
              "</style>\n",
              "<table border=\"1\" class=\"dataframe\">\n",
              "  <thead>\n",
              "    <tr style=\"text-align: right;\">\n",
              "      <th></th>\n",
              "      <th>Query</th>\n",
              "      <th>Response</th>\n",
              "      <th>Score</th>\n",
              "      <th>Label</th>\n",
              "      <th>Sentlen</th>\n",
              "    </tr>\n",
              "  </thead>\n",
              "  <tbody>\n",
              "    <tr>\n",
              "      <th>0</th>\n",
              "      <td>hi how are you doing</td>\n",
              "      <td>i'm fine. how about yourself?</td>\n",
              "      <td>0.0000</td>\n",
              "      <td>0</td>\n",
              "      <td>5</td>\n",
              "    </tr>\n",
              "    <tr>\n",
              "      <th>1</th>\n",
              "      <td>i fine how about yourself</td>\n",
              "      <td>i'm pretty good. thanks for asking.</td>\n",
              "      <td>0.2023</td>\n",
              "      <td>0</td>\n",
              "      <td>5</td>\n",
              "    </tr>\n",
              "    <tr>\n",
              "      <th>2</th>\n",
              "      <td>i pretty good thanks for asking</td>\n",
              "      <td>no problem. so how have you been?</td>\n",
              "      <td>0.8402</td>\n",
              "      <td>1</td>\n",
              "      <td>6</td>\n",
              "    </tr>\n",
              "    <tr>\n",
              "      <th>3</th>\n",
              "      <td>no problem so how have you been</td>\n",
              "      <td>i've been great. what about you?</td>\n",
              "      <td>-0.5994</td>\n",
              "      <td>0</td>\n",
              "      <td>7</td>\n",
              "    </tr>\n",
              "    <tr>\n",
              "      <th>4</th>\n",
              "      <td>i been great what about you</td>\n",
              "      <td>i've been good. i'm in school right now.</td>\n",
              "      <td>0.6249</td>\n",
              "      <td>1</td>\n",
              "      <td>6</td>\n",
              "    </tr>\n",
              "    <tr>\n",
              "      <th>5</th>\n",
              "      <td>i been good i in school right now</td>\n",
              "      <td>what school do you go to?</td>\n",
              "      <td>0.4404</td>\n",
              "      <td>0</td>\n",
              "      <td>8</td>\n",
              "    </tr>\n",
              "    <tr>\n",
              "      <th>6</th>\n",
              "      <td>what school do you go to</td>\n",
              "      <td>i go to pcc.</td>\n",
              "      <td>0.0000</td>\n",
              "      <td>0</td>\n",
              "      <td>6</td>\n",
              "    </tr>\n",
              "    <tr>\n",
              "      <th>7</th>\n",
              "      <td>i go to pcc</td>\n",
              "      <td>do you like it there?</td>\n",
              "      <td>0.0000</td>\n",
              "      <td>0</td>\n",
              "      <td>4</td>\n",
              "    </tr>\n",
              "    <tr>\n",
              "      <th>8</th>\n",
              "      <td>do you like it there</td>\n",
              "      <td>it's okay. it's a really big campus.</td>\n",
              "      <td>0.3612</td>\n",
              "      <td>0</td>\n",
              "      <td>5</td>\n",
              "    </tr>\n",
              "    <tr>\n",
              "      <th>9</th>\n",
              "      <td>it okay it a really big campus</td>\n",
              "      <td>good luck with school.</td>\n",
              "      <td>0.2263</td>\n",
              "      <td>0</td>\n",
              "      <td>7</td>\n",
              "    </tr>\n",
              "    <tr>\n",
              "      <th>10</th>\n",
              "      <td>good luck with school</td>\n",
              "      <td>thank you very much.</td>\n",
              "      <td>0.7096</td>\n",
              "      <td>1</td>\n",
              "      <td>4</td>\n",
              "    </tr>\n",
              "    <tr>\n",
              "      <th>11</th>\n",
              "      <td>how it going</td>\n",
              "      <td>i'm doing well. how about you?</td>\n",
              "      <td>0.0000</td>\n",
              "      <td>0</td>\n",
              "      <td>3</td>\n",
              "    </tr>\n",
              "    <tr>\n",
              "      <th>12</th>\n",
              "      <td>i doing well how about you</td>\n",
              "      <td>never better, thanks.</td>\n",
              "      <td>0.2732</td>\n",
              "      <td>0</td>\n",
              "      <td>6</td>\n",
              "    </tr>\n",
              "    <tr>\n",
              "      <th>13</th>\n",
              "      <td>never better thanks</td>\n",
              "      <td>so how have you been lately?</td>\n",
              "      <td>-0.5875</td>\n",
              "      <td>0</td>\n",
              "      <td>3</td>\n",
              "    </tr>\n",
              "    <tr>\n",
              "      <th>14</th>\n",
              "      <td>so how have you been lately</td>\n",
              "      <td>i've actually been pretty good. you?</td>\n",
              "      <td>0.0000</td>\n",
              "      <td>0</td>\n",
              "      <td>6</td>\n",
              "    </tr>\n",
              "    <tr>\n",
              "      <th>15</th>\n",
              "      <td>i actually been pretty good you</td>\n",
              "      <td>i'm actually in school right now.</td>\n",
              "      <td>0.7269</td>\n",
              "      <td>1</td>\n",
              "      <td>6</td>\n",
              "    </tr>\n",
              "    <tr>\n",
              "      <th>16</th>\n",
              "      <td>i actually in school right now</td>\n",
              "      <td>which school do you attend?</td>\n",
              "      <td>0.0000</td>\n",
              "      <td>0</td>\n",
              "      <td>6</td>\n",
              "    </tr>\n",
              "    <tr>\n",
              "      <th>17</th>\n",
              "      <td>which school do you attend</td>\n",
              "      <td>i'm attending pcc right now.</td>\n",
              "      <td>0.0000</td>\n",
              "      <td>0</td>\n",
              "      <td>5</td>\n",
              "    </tr>\n",
              "    <tr>\n",
              "      <th>18</th>\n",
              "      <td>i attending pcc right now</td>\n",
              "      <td>are you enjoying it there?</td>\n",
              "      <td>0.0000</td>\n",
              "      <td>0</td>\n",
              "      <td>5</td>\n",
              "    </tr>\n",
              "    <tr>\n",
              "      <th>19</th>\n",
              "      <td>are you enjoying it there</td>\n",
              "      <td>it's not bad. there are a lot of people there.</td>\n",
              "      <td>0.5267</td>\n",
              "      <td>1</td>\n",
              "      <td>5</td>\n",
              "    </tr>\n",
              "  </tbody>\n",
              "</table>\n",
              "</div>\n",
              "      <button class=\"colab-df-convert\" onclick=\"convertToInteractive('df-d4e428aa-77c6-4ef3-827f-5cefd4acb8bd')\"\n",
              "              title=\"Convert this dataframe to an interactive table.\"\n",
              "              style=\"display:none;\">\n",
              "        \n",
              "  <svg xmlns=\"http://www.w3.org/2000/svg\" height=\"24px\"viewBox=\"0 0 24 24\"\n",
              "       width=\"24px\">\n",
              "    <path d=\"M0 0h24v24H0V0z\" fill=\"none\"/>\n",
              "    <path d=\"M18.56 5.44l.94 2.06.94-2.06 2.06-.94-2.06-.94-.94-2.06-.94 2.06-2.06.94zm-11 1L8.5 8.5l.94-2.06 2.06-.94-2.06-.94L8.5 2.5l-.94 2.06-2.06.94zm10 10l.94 2.06.94-2.06 2.06-.94-2.06-.94-.94-2.06-.94 2.06-2.06.94z\"/><path d=\"M17.41 7.96l-1.37-1.37c-.4-.4-.92-.59-1.43-.59-.52 0-1.04.2-1.43.59L10.3 9.45l-7.72 7.72c-.78.78-.78 2.05 0 2.83L4 21.41c.39.39.9.59 1.41.59.51 0 1.02-.2 1.41-.59l7.78-7.78 2.81-2.81c.8-.78.8-2.07 0-2.86zM5.41 20L4 18.59l7.72-7.72 1.47 1.35L5.41 20z\"/>\n",
              "  </svg>\n",
              "      </button>\n",
              "      \n",
              "  <style>\n",
              "    .colab-df-container {\n",
              "      display:flex;\n",
              "      flex-wrap:wrap;\n",
              "      gap: 12px;\n",
              "    }\n",
              "\n",
              "    .colab-df-convert {\n",
              "      background-color: #E8F0FE;\n",
              "      border: none;\n",
              "      border-radius: 50%;\n",
              "      cursor: pointer;\n",
              "      display: none;\n",
              "      fill: #1967D2;\n",
              "      height: 32px;\n",
              "      padding: 0 0 0 0;\n",
              "      width: 32px;\n",
              "    }\n",
              "\n",
              "    .colab-df-convert:hover {\n",
              "      background-color: #E2EBFA;\n",
              "      box-shadow: 0px 1px 2px rgba(60, 64, 67, 0.3), 0px 1px 3px 1px rgba(60, 64, 67, 0.15);\n",
              "      fill: #174EA6;\n",
              "    }\n",
              "\n",
              "    [theme=dark] .colab-df-convert {\n",
              "      background-color: #3B4455;\n",
              "      fill: #D2E3FC;\n",
              "    }\n",
              "\n",
              "    [theme=dark] .colab-df-convert:hover {\n",
              "      background-color: #434B5C;\n",
              "      box-shadow: 0px 1px 3px 1px rgba(0, 0, 0, 0.15);\n",
              "      filter: drop-shadow(0px 1px 2px rgba(0, 0, 0, 0.3));\n",
              "      fill: #FFFFFF;\n",
              "    }\n",
              "  </style>\n",
              "\n",
              "      <script>\n",
              "        const buttonEl =\n",
              "          document.querySelector('#df-d4e428aa-77c6-4ef3-827f-5cefd4acb8bd button.colab-df-convert');\n",
              "        buttonEl.style.display =\n",
              "          google.colab.kernel.accessAllowed ? 'block' : 'none';\n",
              "\n",
              "        async function convertToInteractive(key) {\n",
              "          const element = document.querySelector('#df-d4e428aa-77c6-4ef3-827f-5cefd4acb8bd');\n",
              "          const dataTable =\n",
              "            await google.colab.kernel.invokeFunction('convertToInteractive',\n",
              "                                                     [key], {});\n",
              "          if (!dataTable) return;\n",
              "\n",
              "          const docLinkHtml = 'Like what you see? Visit the ' +\n",
              "            '<a target=\"_blank\" href=https://colab.research.google.com/notebooks/data_table.ipynb>data table notebook</a>'\n",
              "            + ' to learn more about interactive tables.';\n",
              "          element.innerHTML = '';\n",
              "          dataTable['output_type'] = 'display_data';\n",
              "          await google.colab.output.renderOutput(dataTable, element);\n",
              "          const docLink = document.createElement('div');\n",
              "          docLink.innerHTML = docLinkHtml;\n",
              "          element.appendChild(docLink);\n",
              "        }\n",
              "      </script>\n",
              "    </div>\n",
              "  </div>\n",
              "  "
            ]
          },
          "metadata": {},
          "execution_count": 47
        }
      ]
    },
    {
      "cell_type": "markdown",
      "source": [
        "**Designing Chatbot**"
      ],
      "metadata": {
        "id": "YmtzJ0V2srcH"
      }
    },
    {
      "cell_type": "code",
      "source": [
        "# Dialog dataset\n",
        "text_data.head()"
      ],
      "metadata": {
        "colab": {
          "base_uri": "https://localhost:8080/",
          "height": 206
        },
        "id": "lvEHxDWDPlG3",
        "outputId": "0e585802-82d3-4c0c-e995-55ee46549d92"
      },
      "execution_count": null,
      "outputs": [
        {
          "output_type": "execute_result",
          "data": {
            "text/plain": [
              "                             Query                                  Response  \\\n",
              "0             hi how are you doing             i'm fine. how about yourself?   \n",
              "1        i fine how about yourself       i'm pretty good. thanks for asking.   \n",
              "2  i pretty good thanks for asking         no problem. so how have you been?   \n",
              "3  no problem so how have you been          i've been great. what about you?   \n",
              "4      i been great what about you  i've been good. i'm in school right now.   \n",
              "\n",
              "    Score  Label  Sentlen  \n",
              "0  0.0000      0        5  \n",
              "1  0.2023      0        5  \n",
              "2  0.8402      1        6  \n",
              "3 -0.5994      0        7  \n",
              "4  0.6249      1        6  "
            ],
            "text/html": [
              "\n",
              "  <div id=\"df-aea898b1-f0fd-409f-ae14-80eb57bfea32\">\n",
              "    <div class=\"colab-df-container\">\n",
              "      <div>\n",
              "<style scoped>\n",
              "    .dataframe tbody tr th:only-of-type {\n",
              "        vertical-align: middle;\n",
              "    }\n",
              "\n",
              "    .dataframe tbody tr th {\n",
              "        vertical-align: top;\n",
              "    }\n",
              "\n",
              "    .dataframe thead th {\n",
              "        text-align: right;\n",
              "    }\n",
              "</style>\n",
              "<table border=\"1\" class=\"dataframe\">\n",
              "  <thead>\n",
              "    <tr style=\"text-align: right;\">\n",
              "      <th></th>\n",
              "      <th>Query</th>\n",
              "      <th>Response</th>\n",
              "      <th>Score</th>\n",
              "      <th>Label</th>\n",
              "      <th>Sentlen</th>\n",
              "    </tr>\n",
              "  </thead>\n",
              "  <tbody>\n",
              "    <tr>\n",
              "      <th>0</th>\n",
              "      <td>hi how are you doing</td>\n",
              "      <td>i'm fine. how about yourself?</td>\n",
              "      <td>0.0000</td>\n",
              "      <td>0</td>\n",
              "      <td>5</td>\n",
              "    </tr>\n",
              "    <tr>\n",
              "      <th>1</th>\n",
              "      <td>i fine how about yourself</td>\n",
              "      <td>i'm pretty good. thanks for asking.</td>\n",
              "      <td>0.2023</td>\n",
              "      <td>0</td>\n",
              "      <td>5</td>\n",
              "    </tr>\n",
              "    <tr>\n",
              "      <th>2</th>\n",
              "      <td>i pretty good thanks for asking</td>\n",
              "      <td>no problem. so how have you been?</td>\n",
              "      <td>0.8402</td>\n",
              "      <td>1</td>\n",
              "      <td>6</td>\n",
              "    </tr>\n",
              "    <tr>\n",
              "      <th>3</th>\n",
              "      <td>no problem so how have you been</td>\n",
              "      <td>i've been great. what about you?</td>\n",
              "      <td>-0.5994</td>\n",
              "      <td>0</td>\n",
              "      <td>7</td>\n",
              "    </tr>\n",
              "    <tr>\n",
              "      <th>4</th>\n",
              "      <td>i been great what about you</td>\n",
              "      <td>i've been good. i'm in school right now.</td>\n",
              "      <td>0.6249</td>\n",
              "      <td>1</td>\n",
              "      <td>6</td>\n",
              "    </tr>\n",
              "  </tbody>\n",
              "</table>\n",
              "</div>\n",
              "      <button class=\"colab-df-convert\" onclick=\"convertToInteractive('df-aea898b1-f0fd-409f-ae14-80eb57bfea32')\"\n",
              "              title=\"Convert this dataframe to an interactive table.\"\n",
              "              style=\"display:none;\">\n",
              "        \n",
              "  <svg xmlns=\"http://www.w3.org/2000/svg\" height=\"24px\"viewBox=\"0 0 24 24\"\n",
              "       width=\"24px\">\n",
              "    <path d=\"M0 0h24v24H0V0z\" fill=\"none\"/>\n",
              "    <path d=\"M18.56 5.44l.94 2.06.94-2.06 2.06-.94-2.06-.94-.94-2.06-.94 2.06-2.06.94zm-11 1L8.5 8.5l.94-2.06 2.06-.94-2.06-.94L8.5 2.5l-.94 2.06-2.06.94zm10 10l.94 2.06.94-2.06 2.06-.94-2.06-.94-.94-2.06-.94 2.06-2.06.94z\"/><path d=\"M17.41 7.96l-1.37-1.37c-.4-.4-.92-.59-1.43-.59-.52 0-1.04.2-1.43.59L10.3 9.45l-7.72 7.72c-.78.78-.78 2.05 0 2.83L4 21.41c.39.39.9.59 1.41.59.51 0 1.02-.2 1.41-.59l7.78-7.78 2.81-2.81c.8-.78.8-2.07 0-2.86zM5.41 20L4 18.59l7.72-7.72 1.47 1.35L5.41 20z\"/>\n",
              "  </svg>\n",
              "      </button>\n",
              "      \n",
              "  <style>\n",
              "    .colab-df-container {\n",
              "      display:flex;\n",
              "      flex-wrap:wrap;\n",
              "      gap: 12px;\n",
              "    }\n",
              "\n",
              "    .colab-df-convert {\n",
              "      background-color: #E8F0FE;\n",
              "      border: none;\n",
              "      border-radius: 50%;\n",
              "      cursor: pointer;\n",
              "      display: none;\n",
              "      fill: #1967D2;\n",
              "      height: 32px;\n",
              "      padding: 0 0 0 0;\n",
              "      width: 32px;\n",
              "    }\n",
              "\n",
              "    .colab-df-convert:hover {\n",
              "      background-color: #E2EBFA;\n",
              "      box-shadow: 0px 1px 2px rgba(60, 64, 67, 0.3), 0px 1px 3px 1px rgba(60, 64, 67, 0.15);\n",
              "      fill: #174EA6;\n",
              "    }\n",
              "\n",
              "    [theme=dark] .colab-df-convert {\n",
              "      background-color: #3B4455;\n",
              "      fill: #D2E3FC;\n",
              "    }\n",
              "\n",
              "    [theme=dark] .colab-df-convert:hover {\n",
              "      background-color: #434B5C;\n",
              "      box-shadow: 0px 1px 3px 1px rgba(0, 0, 0, 0.15);\n",
              "      filter: drop-shadow(0px 1px 2px rgba(0, 0, 0, 0.3));\n",
              "      fill: #FFFFFF;\n",
              "    }\n",
              "  </style>\n",
              "\n",
              "      <script>\n",
              "        const buttonEl =\n",
              "          document.querySelector('#df-aea898b1-f0fd-409f-ae14-80eb57bfea32 button.colab-df-convert');\n",
              "        buttonEl.style.display =\n",
              "          google.colab.kernel.accessAllowed ? 'block' : 'none';\n",
              "\n",
              "        async function convertToInteractive(key) {\n",
              "          const element = document.querySelector('#df-aea898b1-f0fd-409f-ae14-80eb57bfea32');\n",
              "          const dataTable =\n",
              "            await google.colab.kernel.invokeFunction('convertToInteractive',\n",
              "                                                     [key], {});\n",
              "          if (!dataTable) return;\n",
              "\n",
              "          const docLinkHtml = 'Like what you see? Visit the ' +\n",
              "            '<a target=\"_blank\" href=https://colab.research.google.com/notebooks/data_table.ipynb>data table notebook</a>'\n",
              "            + ' to learn more about interactive tables.';\n",
              "          element.innerHTML = '';\n",
              "          dataTable['output_type'] = 'display_data';\n",
              "          await google.colab.output.renderOutput(dataTable, element);\n",
              "          const docLink = document.createElement('div');\n",
              "          docLink.innerHTML = docLinkHtml;\n",
              "          element.appendChild(docLink);\n",
              "        }\n",
              "      </script>\n",
              "    </div>\n",
              "  </div>\n",
              "  "
            ]
          },
          "metadata": {},
          "execution_count": 48
        }
      ]
    },
    {
      "cell_type": "code",
      "source": [
        "from sklearn.feature_extraction.text import TfidfVectorizer,CountVectorizer\n",
        "vectorizer = TfidfVectorizer()\n",
        "factors = vectorizer.fit_transform(text_data['Query']).toarray()"
      ],
      "metadata": {
        "id": "TBT4NdJhqcry"
      },
      "execution_count": null,
      "outputs": []
    },
    {
      "cell_type": "code",
      "source": [
        "from sklearn.metrics.pairwise import cosine_distances"
      ],
      "metadata": {
        "id": "HLMi5olMUpq3"
      },
      "execution_count": null,
      "outputs": []
    },
    {
      "cell_type": "code",
      "source": [
        "\n",
        "def Chatbot(query):\n",
        "\n",
        "  # Clean the query\n",
        "  query = Cleantext(query)\n",
        "  print()\n",
        "  # step:-2 word embedding - transform\n",
        "  query_vector = vectorizer.transform([query]).toarray()\n",
        "\n",
        "  # step-3: cosine similarity\n",
        "  similar_score = 1 -cosine_distances(factors,query_vector)\n",
        "\n",
        "   # take max index position\n",
        "  index = similar_score.argmax()\n",
        "\n",
        "  # searching or matching question\n",
        "  matching_question = text_data.loc[index]['Query']\n",
        "\n",
        "  response = text_data.loc[index]['Response']\n",
        "\n",
        "  confidence = similar_score[index][0]\n",
        "\n",
        "  char_dict ={  'match':matching_question,\n",
        "                'response':response,\n",
        "                'score':confidence}\n",
        "  return char_dict\n"
      ],
      "metadata": {
        "id": "d1dkUAum0ZzZ"
      },
      "execution_count": null,
      "outputs": []
    },
    {
      "cell_type": "code",
      "source": [
        "print(\"     Wellcome, Here is Chatterbot  \")\n",
        "while True:\n",
        "    query = input('USER: ')\n",
        "    if query == 'exit':\n",
        "        break \n",
        "    response = Chatbot(query)\n",
        "\n",
        "    if response['score'] <= 0.2: # \n",
        "        print('BOT: Please rephrase your Question.')\n",
        "\n",
        "    else:\n",
        "      print('BOT: ',response['response'])\n",
        "      print(\"=\" *80)"
      ],
      "metadata": {
        "id": "Zf7vv42zVdEl",
        "colab": {
          "base_uri": "https://localhost:8080/"
        },
        "outputId": "06a7d4ee-99b9-4d40-9c13-9ec7eb011d7f"
      },
      "execution_count": null,
      "outputs": [
        {
          "name": "stdout",
          "output_type": "stream",
          "text": [
            "     Wellcome, Here is Chatterbot\n",
            "USER: hi how are you doing\n",
            "\n",
            "BOT:  i'm fine. how about yourself?\n",
            "================================================================================\n",
            "USER: i'm pretty good. thanks for asking.\n",
            "\n",
            "BOT:  no problem. so how have you been?\n",
            "================================================================================\n",
            "USER: what school do you go to?\n",
            "\n",
            "BOT:  i go to pcc.\n",
            "================================================================================\n",
            "USER: do you like it there?\t\n",
            "\n",
            "BOT:  it's okay. it's a really big campus.\n",
            "================================================================================\n",
            "USER: good luck with school.\n",
            "\n",
            "BOT:  thank you very much.\n",
            "================================================================================\n",
            "USER: exit\n"
          ]
        }
      ]
    },
    {
      "cell_type": "markdown",
      "source": [
        "--------------------------END of Project...................."
      ],
      "metadata": {
        "id": "Oj1cGXejw3CW"
      }
    },
    {
      "cell_type": "code",
      "source": [
        ""
      ],
      "metadata": {
        "id": "eOYpG_KFwCqV"
      },
      "execution_count": null,
      "outputs": []
    }
  ],
  "metadata": {
    "colab": {
      "name": "Kiran_Chatbot.ipynb",
      "provenance": [],
      "collapsed_sections": []
    },
    "kernelspec": {
      "display_name": "Python 3",
      "name": "python3"
    },
    "language_info": {
      "name": "python"
    }
  },
  "nbformat": 4,
  "nbformat_minor": 0
}
